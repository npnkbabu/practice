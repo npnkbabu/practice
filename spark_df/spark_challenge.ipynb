{
 "cells": [
  {
   "cell_type": "code",
   "execution_count": 1,
   "metadata": {},
   "outputs": [],
   "source": [
    "#udemy a-crash-course-in-pyspark challange"
   ]
  },
  {
   "cell_type": "code",
   "execution_count": 2,
   "metadata": {},
   "outputs": [],
   "source": [
    "#read data/challange.csv and answer below questions\n",
    "# 1. Add a column to say Yes or No to check whether country is Mexico\n",
    "# 2. Group by your new column and sum by bytes used\n",
    "# 3. Group by Country and use sqlfunc.countDistinct to calculate no.of ipaddresses seen in each country"
   ]
  },
  {
   "cell_type": "code",
   "execution_count": 1,
   "metadata": {},
   "outputs": [],
   "source": [
    "import findspark\n",
    "findspark.init()\n",
    "import pyspark\n",
    "from pyspark.sql import SparkSession\n",
    "from pyspark.sql.functions import *\n",
    "import pyspark.sql.functions as sqlfunc\n",
    "import numpy as np"
   ]
  },
  {
   "cell_type": "code",
   "execution_count": 4,
   "metadata": {},
   "outputs": [],
   "source": [
    "spark = SparkSession.builder.appName('mymlproject').getOrCreate()"
   ]
  },
  {
   "cell_type": "code",
   "execution_count": 5,
   "metadata": {},
   "outputs": [
    {
     "name": "stdout",
     "output_type": "stream",
     "text": [
      "+-------------+-------+----------------+----------+\n",
      "|   ip_address|Country|     Domain Name|Bytes_used|\n",
      "+-------------+-------+----------------+----------+\n",
      "|52.81.192.172|  China|odnoklassniki.ru|       463|\n",
      "+-------------+-------+----------------+----------+\n",
      "only showing top 1 row\n",
      "\n"
     ]
    }
   ],
   "source": [
    "#read df\n",
    "df = spark.read.csv('../data/challenge.csv',header=True)\n",
    "df.show(1)"
   ]
  },
  {
   "cell_type": "code",
   "execution_count": 20,
   "metadata": {},
   "outputs": [
    {
     "name": "stdout",
     "output_type": "stream",
     "text": [
      "+-------------+-------+----------------+----------+---------+\n",
      "|   ip_address|Country|     Domain Name|Bytes_used|Is_Mexico|\n",
      "+-------------+-------+----------------+----------+---------+\n",
      "|52.81.192.172|  China|odnoklassniki.ru|       463|       No|\n",
      "+-------------+-------+----------------+----------+---------+\n",
      "only showing top 1 row\n",
      "\n"
     ]
    }
   ],
   "source": [
    "# 1. Add a column to say Yes or No to check whether country is Mexico\n",
    "df_1 = df.withColumn('Is_Mexico'\n",
    "                    ,when(df.Country=='Mexico','Yes')\n",
    "                    .otherwise('No'))\n",
    "df_1.show(1)"
   ]
  },
  {
   "cell_type": "code",
   "execution_count": 27,
   "metadata": {},
   "outputs": [
    {
     "name": "stdout",
     "output_type": "stream",
     "text": [
      "+---------+--------------+\n",
      "|Is_Mexico|TotalBytesUsed|\n",
      "+---------+--------------+\n",
      "|       No|      508076.0|\n",
      "|      Yes|        6293.0|\n",
      "+---------+--------------+\n",
      "\n"
     ]
    }
   ],
   "source": [
    "# 2. Group by your new column and sum by bytes used\n",
    "df_2 = df_1.groupby('Is_Mexico').agg(sqlfunc.sum('Bytes_used').alias('TotalBytesUsed'))\n",
    "df_2.sort(col('TotalBytesUsed').desc()).show()\n"
   ]
  },
  {
   "cell_type": "code",
   "execution_count": 28,
   "metadata": {},
   "outputs": [
    {
     "name": "stdout",
     "output_type": "stream",
     "text": [
      "+--------------+---------+\n",
      "|       Country|Unique_IP|\n",
      "+--------------+---------+\n",
      "|         China|      172|\n",
      "|     Indonesia|      114|\n",
      "|   Philippines|       65|\n",
      "|        Russia|       56|\n",
      "|        Brazil|       35|\n",
      "|        Poland|       31|\n",
      "|        Sweden|       28|\n",
      "|         Japan|       25|\n",
      "|Czech Republic|       23|\n",
      "|      Portugal|       23|\n",
      "|        France|       21|\n",
      "|          Peru|       19|\n",
      "|      Colombia|       17|\n",
      "| United States|       15|\n",
      "|       Ukraine|       14|\n",
      "|     Argentina|       14|\n",
      "|        Mexico|       13|\n",
      "|      Thailand|       12|\n",
      "|       Nigeria|       11|\n",
      "|        Canada|       11|\n",
      "+--------------+---------+\n",
      "only showing top 20 rows\n",
      "\n"
     ]
    }
   ],
   "source": [
    "# 3. Group by Country and use sqlfunc.countDistinct to calculate no.of ipaddresses seen in each country\n",
    "df_3 = df.groupby('Country').agg(sqlfunc.countDistinct('ip_address').alias('Unique_IP'))\n",
    "df_3.sort(col('Unique_IP').desc()).show()"
   ]
  },
  {
   "cell_type": "code",
   "execution_count": null,
   "metadata": {},
   "outputs": [],
   "source": []
  }
 ],
 "metadata": {
  "kernelspec": {
   "display_name": "Python 3",
   "language": "python",
   "name": "python3"
  },
  "language_info": {
   "codemirror_mode": {
    "name": "ipython",
    "version": 3
   },
   "file_extension": ".py",
   "mimetype": "text/x-python",
   "name": "python",
   "nbconvert_exporter": "python",
   "pygments_lexer": "ipython3",
   "version": "3.8.5"
  }
 },
 "nbformat": 4,
 "nbformat_minor": 4
}
